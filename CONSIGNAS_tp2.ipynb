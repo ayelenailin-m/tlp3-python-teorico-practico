{
 "cells": [
  {
   "cell_type": "markdown",
   "metadata": {},
   "source": [
    "# Criterios de evaluación.\n",
    "\n",
    "* Se deben utilizar nombres de variables descriptivos y claros.\n",
    "* Cada ejercicio debe ser realizado utilizando **FUNCIONES**, NO solo codigo suelto.\n",
    "* Comentarios claros y concisos que expliquen el propósito de cada sección del código.\n",
    "* Entrega en tiempo y forma.\n",
    "* Todo el código desarrollado debe ser subido a un repositorio en GitHub.\n",
    "\n",
    "\n",
    "**Aclaración: Para resolver las actividades se debe incertar casillas de codigo entre cada actividad del cuaderno de Jupyter**"
   ]
  },
  {
   "cell_type": "markdown",
   "metadata": {},
   "source": [
    "### 1. **Bucles**\n",
    "\n",
    "   - **Actividad 1.1**: Escribir un programa que muestre el print de todo lo que el usuario introduzca hasta que el usuario escriba “salir” que terminará.\n",
    "   \n",
    "   - **Actividad 1.2**: Escribir un programa que pida al usuario un número entero y muestre por pantalla un triángulo rectángulo como el de más abajo con la cantidad de escalones indicados previamente (los numeros dentro del triangulo deben ser enteros aleatorios del 0 al 9).\n",
    "* 1\n",
    "* 3 1\n",
    "* 5 3 1\n",
    "* 7 5 3 1\n",
    "* 9 7 5 3 1"
   ]
  },
  {
   "cell_type": "code",
   "execution_count": 3,
   "metadata": {},
   "outputs": [
    {
     "name": "stdout",
     "output_type": "stream",
     "text": [
      "Escribiste: 'hola'\n",
      "Escribiste: 'que tal'\n",
      "Escribiste: 'coómo'\n"
     ]
    }
   ],
   "source": [
    "\n",
    "# todo: Resolución\n",
    "# ! 1\n",
    "# Creo la función que muestre la entrada hasta que se escriba 'salir'\n",
    "def mostrar_entrada():\n",
    "    entrada = \"\" \n",
    "\n",
    "    while entrada.lower() != \"salir\": # se repite mientras no se escriba 'salir'\n",
    "        entrada = input(\"Escribí lo que sea ('salir para terminar')\")\n",
    "        if entrada.lower() != \"salir\":\n",
    "            print(f\"Escribiste: '{entrada}'\")\n",
    "\n",
    "# Ejecutamos la funcion\n",
    "mostrar_entrada()\n"
   ]
  },
  {
   "cell_type": "code",
   "execution_count": null,
   "metadata": {},
   "outputs": [
    {
     "name": "stdout",
     "output_type": "stream",
     "text": [
      "9\n",
      "6 9\n",
      "7 1 2\n",
      "3 1 9 6\n",
      "5 8 5 7 0\n"
     ]
    }
   ],
   "source": [
    "\n",
    "# todo: resolución\n",
    "\n",
    "# ! 2\n",
    "## importamos el módulo para generar números aleatorios\n",
    "import random\n",
    "\n",
    "# funcion que genera el triangulo\n",
    "def generar_triangulo(cantidad_de_filas):\n",
    "\n",
    "    for fila in range(1, cantidad_de_filas + 1): # cada fila va creciendo en uno\n",
    "        numeros = [] # lista para guardar los números de la fila actual\n",
    "        for _ in range(fila):\n",
    "            numero_aleatorio = random.randint(0, 9)\n",
    "            numeros.append(str(numero_aleatorio)) \n",
    "        print(\" \".join(numeros)) # mostrar los números separados por espacio\n",
    "\n",
    "# función que pide un número para la cantidad de filas\n",
    "def pedir_mostrar_triangulo():\n",
    "    try:\n",
    "        cantidad = int(input(\"Ingresá la cantidad de filas para el triangulo: \"))\n",
    "        generar_triangulo(cantidad)\n",
    "    except ValueError:\n",
    "        print(\"Por favor ingresá un número entero válido\")\n",
    "\n",
    "# llamamos a la función \n",
    "pedir_mostrar_triangulo()"
   ]
  },
  {
   "cell_type": "markdown",
   "metadata": {},
   "source": [
    "### 2. **Listas y Tuplas**\n",
    "\n",
    "   - **Actividad 1**: Escribir un programa que pida al usuario una frase y muestre por pantalla el número de veces que contiene cada vocal y la cantidad de espacios en blanco.\n",
    "\n",
    "   - **Actividad 2**: Escribir un programa que cree una matriz (con numeros aleatorios del 1 al 100) usando las dimensiones de X e Y que el usuario deberia ingresar por consola, luego crea una tupla con la matriz transpuesta y por ultimo las muestra ambas por consola .\n",
    "\n",
    "   - **Actividad 3**: Escribir un programa que almacene en una lista los siguientes precios, 50, 75, 46, 22, 80, 65, 8, y muestre por pantalla el menor y el mayor de los precios"
   ]
  },
  {
   "cell_type": "code",
   "execution_count": null,
   "metadata": {},
   "outputs": [
    {
     "name": "stdout",
     "output_type": "stream",
     "text": [
      "\n",
      "Cantidad de cada vocal: \n",
      "a: 1\n",
      "á: 0\n",
      "e: 1\n",
      "é: 0\n",
      "i: 1\n",
      "í: 0\n",
      "o: 1\n",
      "ó: 0\n",
      "u: 1\n",
      "ú: 0\n",
      "\n",
      "Espacios en blanco: 0\n"
     ]
    }
   ],
   "source": [
    "\n",
    "# todo: Resolución\n",
    "\n",
    "# ! 1\n",
    "def contar_vocales_y_espacios(frase):\n",
    "    vocales = \"aáeéiíoóuú\" # definimos las vocales para contarlas, también las tildadas\n",
    "    conteo_vocales = {vocal: 0 for vocal in vocales} # diccionario para contar cada vocal\n",
    "    espacios = 0\n",
    "\n",
    "    for caracter in frase.lower():\n",
    "        if caracter in conteo_vocales: # se suma si es vocal\n",
    "            conteo_vocales[caracter] += 1\n",
    "        elif caracter == ' ': # se suma si es un espacio\n",
    "            espacios += 1\n",
    "\n",
    "    # mostar el resultado\n",
    "    print(\"\\nCantidad de cada vocal: \")\n",
    "    for vocal, cantidad in conteo_vocales.items():\n",
    "        print(f\"{vocal}: {cantidad}\")\n",
    "\n",
    "    print(f\"\\nEspacios en blanco: {espacios}\")\n",
    "\n",
    "def pedir_frase_y_contar():\n",
    "    frase = input(\"Ingresá una frase: \")\n",
    "    contar_vocales_y_espacios(frase)\n",
    "\n",
    "# ejecutamos \n",
    "pedir_frase_y_contar()\n",
    "\n",
    "\n"
   ]
  },
  {
   "cell_type": "code",
   "execution_count": null,
   "metadata": {},
   "outputs": [
    {
     "name": "stdout",
     "output_type": "stream",
     "text": [
      "\n",
      "Matriz original:\n",
      "[32, 53, 79, 48, 50]\n",
      "[13, 72, 62, 85, 35]\n",
      "\n",
      "Matriz transpuesta:\n",
      "(32, 13)\n",
      "(53, 72)\n",
      "(79, 62)\n",
      "(48, 85)\n",
      "(50, 35)\n"
     ]
    }
   ],
   "source": [
    "\n",
    "# todo: Resolución\n",
    "\n",
    "# ! 2\n",
    "def crear_matriz(filas, columnas):\n",
    "\n",
    "    matriz = []\n",
    "    for _ in range(filas):\n",
    "        fila = [random.randint(1,100) for _ in range(columnas)]\n",
    "        matriz.append(fila)\n",
    "    return matriz\n",
    "\n",
    "def transponer_matriz(matriz):\n",
    "\n",
    "    # zip(*matriz) tranfiere las filas como columnas\n",
    "    matriz_transpuesta = tuple(tuple(fila) for fila in zip(*matriz) ) # tuple(tuple(...)): convierte filas transpuestas en una tupla de tuplas\n",
    "    return matriz_transpuesta\n",
    "\n",
    "\n",
    "def mostrar_matriz(matriz):\n",
    "    \n",
    "    for fila in matriz:\n",
    "        print(fila)\n",
    "\n",
    "def matriz_ejecucucion():\n",
    "    # pedimos al usuario las dimensiones para la matriz\n",
    "    try:\n",
    "        filas = int(input(\"Ingresá la cantidad de filas\"))\n",
    "        columnas = int(input(\"Ingresá la cantidad de columnas\"))\n",
    "\n",
    "        matriz_original = crear_matriz(filas, columnas)\n",
    "        matriz_transpuesta = transponer_matriz(matriz_original)\n",
    "\n",
    "        print(\"\\nMatriz original:\")\n",
    "        mostrar_matriz(matriz_original)\n",
    "\n",
    "        print(\"\\nMatriz transpuesta:\")\n",
    "        mostrar_matriz(matriz_transpuesta)\n",
    "    except ValueError:\n",
    "        print(\"Ingresá un número válido\")\n",
    "\n",
    "# llamamos a la función\n",
    "matriz_ejecucucion()"
   ]
  },
  {
   "cell_type": "code",
   "execution_count": null,
   "metadata": {},
   "outputs": [
    {
     "name": "stdout",
     "output_type": "stream",
     "text": [
      "Lista de precios: [50, 75, 46, 22, 80, 65, 8]\n",
      "\n",
      "Precio más bajo: 8\n",
      "Precio más alto: 80\n"
     ]
    }
   ],
   "source": [
    "\n",
    "# todo: Resolución\n",
    "\n",
    "# ! 3\n",
    "def encontrar_menor_mayor(precios):\n",
    "\n",
    "    # min, max: funciones integradas que devuelven el valor mínimo y máximo de una lista\n",
    "    precio_minimo = min(precios) \n",
    "    precio_maximo = max(precios)\n",
    "\n",
    "    print(f\"Precio más bajo: {precio_minimo}\")\n",
    "    print(f\"Precio más alto: {precio_maximo}\")\n",
    "\n",
    "def mostramos_precios():\n",
    "\n",
    "    lista_precios = [50, 75, 46, 22, 80, 65, 8]\n",
    "\n",
    "    print(f\"Lista de precios: {lista_precios}\\n\")\n",
    "    encontrar_menor_mayor(lista_precios)\n",
    "\n",
    "# llamamos\n",
    "mostramos_precios()"
   ]
  },
  {
   "cell_type": "markdown",
   "metadata": {},
   "source": [
    "### 3. **Diccionarios**\n",
    "\n",
    "   - **Actividad 1**: Escribir un programa que cree un diccionario simulando una cesta de la compra. El programa debe preguntar el artículo y su precio y añadir el par al diccionario, hasta que el usuario decida terminar. Después se debe mostrar por pantalla la lista de la compra y el coste total, con el siguiente formato.\n",
    "\n",
    "   | arts  |precio |\n",
    "   |-------|-------|\n",
    "   |art 1  |1      |\n",
    "   |art 2  |2      |\n",
    "   |art 3  |3      |\n",
    "   |total  |6      |\n",
    "\n",
    "   - **Actividad 2**: Escribir un programa que cree un diccionario de traducción español-inglés. El usuario introducirá las palabras en español e inglés separadas por dos puntos, y cada par <palabra> : <traducción> separados por comas (es decir, solo se debe usar **UNA VEZ** la función input para la carga de palabras). El programa debe crear un diccionario con las palabras y sus traducciones. Después pedirá una frase en español y utilizará el diccionario para traducirla palabra a palabra. Si una palabra no está en el diccionario debe dejarla sin traducir.\n",
    "\n",
    "   - **Actividad 3**: Escribir un programa que reciba una cadena de caracteres y devuelva un diccionario con cada palabra que contiene y su frecuencia. Escribir otra función que reciba el diccionario generado con la función anterior y devuelva una tupla con la palabra más repetida y su frecuencia."
   ]
  },
  {
   "cell_type": "code",
   "execution_count": 37,
   "metadata": {},
   "outputs": [
    {
     "name": "stdout",
     "output_type": "stream",
     "text": [
      "\n",
      "Lista de compras:\n",
      "| Artículo | Precio |\n",
      "----------------------\n",
      "| pan      |   20.0 |\n",
      "| queso    |   30.0 |\n",
      "| jamon    |   10.0 |\n",
      "| mayonesa |    5.0 |\n",
      "----------------------\n",
      "| Total    |   65.0 |\n"
     ]
    }
   ],
   "source": [
    "\n",
    "# todo: Resolución\n",
    "\n",
    "# ! 1\n",
    "def agregar_articulos_a_cesta():\n",
    "    cesta = {}\n",
    "\n",
    "    while True:\n",
    "        articulo = input(\"Nombre del articulo (o 'fin' para terminar)\").strip()\n",
    "\n",
    "        if articulo.lower() == \"fin\":\n",
    "            break\n",
    "    \n",
    "        try:\n",
    "            precio = float(input(f\"precio de {articulo}:\"))\n",
    "            # agregar el par al diccionario\n",
    "            cesta[articulo] = precio\n",
    "        except ValueError:\n",
    "            print(\"precio inválido\")\n",
    "\n",
    "    return cesta\n",
    "\n",
    "def mostrar_cesta_total(cesta):\n",
    "    print(\"\\nLista de compras:\")\n",
    "    # uso del formato tabla con alineacion (:< para izquierda, :> para derecha)\n",
    "    print(f\"{'| Artículo':<10} | {'Precio':>6} |\")\n",
    "    print(\"-\" * 22)\n",
    "\n",
    "    total = 0\n",
    "    for articulo, precio in cesta.items():\n",
    "        print(f\"| {articulo:<8} | {precio:>6.1f} |\")\n",
    "        total += precio\n",
    "    \n",
    "    print(\"-\" * 22)\n",
    "    print(f\"| {'Total':<8} | {total:>6.1f} |\")\n",
    "\n",
    "\n",
    "def ejecutar_cesta():\n",
    "    cesta = agregar_articulos_a_cesta()\n",
    "\n",
    "    if cesta:\n",
    "        mostrar_cesta_total(cesta)\n",
    "    else:\n",
    "        print(\"La cesta está vacía\")\n",
    "\n",
    "ejecutar_cesta()\n",
    "\n"
   ]
  },
  {
   "cell_type": "code",
   "execution_count": 36,
   "metadata": {},
   "outputs": [
    {
     "name": "stdout",
     "output_type": "stream",
     "text": [
      "\n",
      "Frase traducida:\n",
      "hi want un coffee , tengo que hacer mi leccion de duopapa\n"
     ]
    }
   ],
   "source": [
    "\n",
    "# todo: Resolución\n",
    "\n",
    "# ! 2\n",
    "\n",
    "# esta función recibe una cadena con pares 'español:inglés' separados por comas y devuelve un diccionario\n",
    "def crear_diccionario_traduccion(cadena_entrada):\n",
    "    diccionario = {}\n",
    "\n",
    "    # divide por coma para separar cada par\n",
    "    pares = cadena_entrada.split(\",\")\n",
    "\n",
    "    for par in pares:\n",
    "        if \":\" in par:\n",
    "            # separa cada par por \":\" y guarda en diccionario\n",
    "            palabra_es, palabra_en = par.strip().split(\":\")\n",
    "            diccionario[palabra_es.strip().lower()] = palabra_en.strip().lower()\n",
    "\n",
    "    return diccionario\n",
    "\n",
    "# Traduce una frase palabra por palabra usando el diccionario dado\n",
    "def traducir_frase(frase, diccionario):\n",
    "\n",
    "    palabras = frase.strip().lower().split()\n",
    "    traduccion = []\n",
    "\n",
    "    for palabra in palabras:\n",
    "        traduccion.append(diccionario.get(palabra, palabra))  # Si no está, deja la misma palabra\n",
    "\n",
    "    return \" \".join(traduccion)\n",
    "\n",
    "\n",
    "# Función principal que ejecuta el traductor completo\n",
    "def ejecutar_traductor():\n",
    "\n",
    "    entrada = input(\"Ingresá los pares 'español:inglés' separados por comas (ej: hola:hello, mundo:world): \")\n",
    "    diccionario = crear_diccionario_traduccion(entrada)\n",
    "\n",
    "    frase = input(\"Ingresá una frase en español: \")\n",
    "    resultado = traducir_frase(frase, diccionario)\n",
    "\n",
    "    print(\"\\nFrase traducida:\")\n",
    "    print(resultado)\n",
    "\n",
    "# Ejecutar el traductor\n",
    "ejecutar_traductor()\n"
   ]
  },
  {
   "cell_type": "code",
   "execution_count": 32,
   "metadata": {},
   "outputs": [
    {
     "name": "stdout",
     "output_type": "stream",
     "text": [
      "\n",
      "Frecuencia de palabras:\n",
      "hola: 2\n",
      "que: 2\n",
      "tal: 1\n",
      "socio: 1\n",
      "en: 1\n",
      "andas: 1\n",
      "tengo: 1\n",
      "hambre: 1\n",
      "\n",
      "Palabra más repetida: 'hola' (2 veces)\n"
     ]
    }
   ],
   "source": [
    "\n",
    "# todo: Resolución\n",
    "\n",
    "# ! 3\n",
    "\n",
    "# Recibe un texto y devuelve un diccionario con la frecuencia de cada palabra:\n",
    "def contar_frecuencia_palabras(texto):\n",
    "\n",
    "    palabras = texto.lower().split() # convierte todo a texto y divide en palabras\n",
    "    frecuencia = {}\n",
    "\n",
    "    for palabra in palabras:\n",
    "        palabra = palabra.strip(\".,:;!?¿¡\")  # limpia signos comunes\n",
    "        frecuencia[palabra] = frecuencia.get(palabra, 0) + 1\n",
    "\n",
    "    return frecuencia\n",
    "\n",
    "# Recibe un diccionario y devuelve una tupla con la palabra más repetida y su frecuencia\n",
    "def palabra_mas_frecuente(diccionario):\n",
    "\n",
    "    if not diccionario:\n",
    "        return None, 0\n",
    "\n",
    "    palabra_max = max(diccionario, key=diccionario.get) # busca la palabra con mayor valor / mas frecuente\n",
    "    return palabra_max, diccionario[palabra_max]\n",
    "\n",
    "\n",
    "# pide un texto, calcula frecuencia y muestra la palabra más repetida\n",
    "def ejecutar_frecuencia():\n",
    "    \n",
    "    texto = input(\"Ingresá un texto: \")\n",
    "    frecuencia = contar_frecuencia_palabras(texto)\n",
    "    \n",
    "    print(\"\\nFrecuencia de palabras:\")\n",
    "    for palabra, cantidad in frecuencia.items():\n",
    "        print(f\"{palabra}: {cantidad}\")\n",
    "\n",
    "    palabra, veces = palabra_mas_frecuente(frecuencia)\n",
    "    print(f\"\\nPalabra más repetida: '{palabra}' ({veces} veces)\")\n",
    "\n",
    "# Ejecutamos\n",
    "ejecutar_frecuencia()\n"
   ]
  },
  {
   "cell_type": "markdown",
   "metadata": {},
   "source": [
    "### 4. **Funciones**\n",
    "\n",
    "- **Actividad 1**: Escribir una función que calcule el total de una factura tras aplicarle el IVA. La función debe recibir la cantidad sin IVA y el porcentaje de IVA a aplicar, y devolver el total de la factura. Si se invoca la función sin pasarle el porcentaje de IVA, deberá aplicar un 21%.\n",
    "\n",
    "- **Actividad 2**: Escribir una función que reciba un número entero positivo y devuelva su factorial.\n"
   ]
  },
  {
   "cell_type": "code",
   "execution_count": 17,
   "metadata": {},
   "outputs": [
    {
     "name": "stdout",
     "output_type": "stream",
     "text": [
      "\n",
      "Total con IVA: 3300.00\n"
     ]
    }
   ],
   "source": [
    "\n",
    "# todo: Resolución\n",
    "\n",
    "# ! 1\n",
    "\n",
    "# función que calucula el total de una factura\n",
    "def calcular_total_con_iva(cantidad_sin_iva, porcentaje_iva=21): # porcentaje_iva=21 es un parametro por defecto en caso de que no se especifique\n",
    "    \n",
    "    total = cantidad_sin_iva + (cantidad_sin_iva * porcentaje_iva / 100)\n",
    "    return total\n",
    "\n",
    "\n",
    "# pedimos al usuario una cantidad y un porcentaje de iva\n",
    "def ejecutar_calculo_factura():\n",
    "    \n",
    "    try:\n",
    "        cantidad = float(input(\"Ingresá el monto sin IVA: \"))\n",
    "        entrada_iva = input(\"Ingresá el porcentaje de IVA (Enter para usar 21%): \")\n",
    "\n",
    "        if entrada_iva.strip() == \"\":\n",
    "            total = calcular_total_con_iva(cantidad)\n",
    "        else:\n",
    "            iva = float(entrada_iva)\n",
    "            total = calcular_total_con_iva(cantidad, iva)\n",
    "\n",
    "        print(f\"\\nTotal con IVA: {total:.2f}\")\n",
    "\n",
    "    except ValueError:\n",
    "        print(\"Iválido, ingresa números\")\n",
    "\n",
    "# Ejecutamos\n",
    "ejecutar_calculo_factura()\n"
   ]
  },
  {
   "cell_type": "code",
   "execution_count": 33,
   "metadata": {},
   "outputs": [
    {
     "name": "stdout",
     "output_type": "stream",
     "text": [
      "\n",
      "El factorial de 40 es: 815915283247897734345611269596115894272000000000\n"
     ]
    }
   ],
   "source": [
    "\n",
    "# todo: Resolución\n",
    "\n",
    "# ! 2\n",
    "\n",
    "# calculamos el factorial de un número\n",
    "def calcular_factorial(numero):\n",
    "\n",
    "    if numero == 0 or numero == 1:\n",
    "        return 1\n",
    "    \n",
    "    factorial = 1\n",
    "    for i in range(2, numero + 1):\n",
    "        factorial *= i\n",
    "    return factorial\n",
    "\n",
    "# pedimos el numero al usuario para calcular\n",
    "def ejecutar_factorial(): \n",
    "    try:\n",
    "        numero = int(input(\"ingresá un numero entero positivo\"))\n",
    "        if numero < 0:\n",
    "            print(\"el numero debe ser positivo\")\n",
    "        else:\n",
    "            resultado = calcular_factorial(numero)\n",
    "            print(f\"\\nEl factorial de {numero} es: {resultado}\")\n",
    "\n",
    "    except ValueError:\n",
    "        print(\"Ingresá un número entero positivo valido\")\n",
    "\n",
    "# ejecutamos la función\n",
    "ejecutar_factorial()"
   ]
  }
 ],
 "metadata": {
  "kernelspec": {
   "display_name": "Python 3",
   "language": "python",
   "name": "python3"
  },
  "language_info": {
   "codemirror_mode": {
    "name": "ipython",
    "version": 3
   },
   "file_extension": ".py",
   "mimetype": "text/x-python",
   "name": "python",
   "nbconvert_exporter": "python",
   "pygments_lexer": "ipython3",
   "version": "3.12.9"
  }
 },
 "nbformat": 4,
 "nbformat_minor": 2
}
